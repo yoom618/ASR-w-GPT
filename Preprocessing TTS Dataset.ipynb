{
 "cells": [
  {
   "cell_type": "code",
   "execution_count": 11,
   "id": "9afc1d6b",
   "metadata": {},
   "outputs": [],
   "source": [
    "import os\n",
    "import librosa\n",
    "import pickle\n",
    "from tqdm import tqdm\n",
    "import numpy as np"
   ]
  },
  {
   "cell_type": "code",
   "execution_count": 2,
   "id": "f87ffb93",
   "metadata": {},
   "outputs": [],
   "source": [
    "data_dir = '/data4/TTS/VCTK/VCTK-Corpus/'"
   ]
  },
  {
   "cell_type": "code",
   "execution_count": 3,
   "id": "bb47d634",
   "metadata": {},
   "outputs": [
    {
     "name": "stdout",
     "output_type": "stream",
     "text": [
      "['When the sunlight strikes raindrops in the air, they act as a prism and form a rainbow.\\n']\n"
     ]
    }
   ],
   "source": [
    "with open('/data4/TTS/VCTK/VCTK-Corpus/txt/p225/p225_006.txt','r') as fp:\n",
    "    print(fp.readlines())"
   ]
  },
  {
   "cell_type": "code",
   "execution_count": 4,
   "id": "34972f69",
   "metadata": {},
   "outputs": [
    {
     "name": "stdout",
     "output_type": "stream",
     "text": [
      "[ 0.00019856  0.00056936  0.00056342 ... -0.00718605 -0.00768058\n",
      "  0.        ] 16000\n"
     ]
    }
   ],
   "source": [
    "y, sr = librosa.load('/data4/TTS/VCTK/VCTK-Corpus/wav48/p225/p225_006.wav', sr=16000)\n",
    "print(y, sr)"
   ]
  },
  {
   "cell_type": "code",
   "execution_count": 6,
   "id": "e73c0022",
   "metadata": {
    "scrolled": true
   },
   "outputs": [
    {
     "name": "stdout",
     "output_type": "stream",
     "text": [
      "p311\n",
      "p263\n",
      "p251\n",
      "p326\n",
      "p374\n",
      "p340\n",
      "p286\n",
      "p246\n",
      "p247\n",
      "p280\n",
      "p302\n",
      "p233\n",
      "p228\n",
      "p335\n",
      "p237\n",
      "p254\n",
      "p287\n",
      "p336\n",
      "p298\n",
      "p343\n",
      "p317\n",
      "p273\n",
      "p257\n",
      "p347\n",
      "p281\n",
      "p278\n",
      "p360\n",
      "p285\n",
      "p236\n",
      "p271\n",
      "p245\n",
      "p310\n",
      "p312\n",
      "p238\n",
      "p297\n",
      "p303\n",
      "p351\n",
      "p250\n",
      "p318\n",
      "p274\n",
      "p330\n",
      "p341\n",
      "p306\n",
      "p305\n",
      "p255\n",
      "p288\n",
      "p259\n",
      "p275\n",
      "p230\n",
      "p227\n",
      "p276\n",
      "p272\n",
      "p314\n",
      "p268\n",
      "p253\n",
      "p339\n",
      "p334\n",
      "p260\n",
      "p231\n",
      "p248\n",
      "p345\n",
      "p249\n",
      "p295\n",
      "p243\n",
      "p258\n",
      "p277\n",
      "p252\n",
      "p362\n",
      "p256\n",
      "p229\n",
      "p284\n",
      "p225\n",
      "p376\n",
      "p232\n",
      "p262\n",
      "p333\n",
      "p270\n",
      "p239\n",
      "p267\n",
      "p282\n",
      "p269\n",
      "p261\n",
      "p234\n",
      "p329\n",
      "p266\n",
      "p364\n",
      "p363\n",
      "p294\n",
      "p292\n",
      "p307\n",
      "p293\n",
      "p313\n",
      "p300\n",
      "p299\n",
      "p361\n",
      "p264\n",
      "p240\n",
      "p226\n",
      "p241\n",
      "p308\n",
      "p279\n",
      "p304\n",
      "p323\n",
      "p301\n",
      "p265\n",
      "p283\n",
      "p244\n",
      "p316\n"
     ]
    }
   ],
   "source": [
    "dataset = {\n",
    "    'page' : list(),\n",
    "    'index' : list(),\n",
    "    'audio_path' : list(),\n",
    "    'audio_array' : list(),\n",
    "    'text' : list(),\n",
    "    'sample_rate' : 16000\n",
    "}\n",
    "\n",
    "for page in os.listdir(os.path.join(data_dir, 'txt')):\n",
    "    print(page)\n",
    "    for fname in os.listdir(os.path.join(data_dir, 'txt', page)):\n",
    "        audio_path = os.path.join(data_dir, 'wav48', page, fname[:-4] + '.wav')\n",
    "        text_path = os.path.join(data_dir, 'txt', page, fname)\n",
    "        dataset['page'].append(page)\n",
    "        dataset['index'].append(fname[:-4])\n",
    "        dataset['audio_path'].append(audio_path)\n",
    "        dataset['audio_array'].append(librosa.load(audio_path, sr=dataset['sample_rate'])[0])\n",
    "        with open(text_path) as fp:\n",
    "            text = ' '.join(fp.readlines()).replace('\\n','')\n",
    "            dataset['text'].append(text)\n",
    "            \n",
    "with open(os.path.join(data_dir, 'dataset-vctk-16k.pkl'), 'wb') as f:\n",
    "    pickle.dump(dataset, f)"
   ]
  },
  {
   "cell_type": "code",
   "execution_count": 7,
   "id": "29defa93",
   "metadata": {},
   "outputs": [],
   "source": []
  },
  {
   "cell_type": "code",
   "execution_count": null,
   "id": "4716a4ec",
   "metadata": {},
   "outputs": [],
   "source": [
    "with open('/data4/TTS/VCTK-Corpus/dataset-vctk-16k.pkl', 'rb') as f:\n",
    "    dataset = pickle.load(f)\n",
    "del dataset['page'], dataset['index'], dataset['audio_path']\n",
    "\n",
    "\n",
    "max_audio_length = 0\n",
    "for arr in dataset['audio_array']:\n",
    "    if len(arr) > max_audio_length:\n",
    "        max_audio_length = len(arr)\n",
    "print(max_audio_length)"
   ]
  },
  {
   "cell_type": "code",
   "execution_count": 8,
   "id": "62dd7e6a",
   "metadata": {},
   "outputs": [
    {
     "name": "stderr",
     "output_type": "stream",
     "text": [
      "100%|████████████████████████████████████| 44070/44070 [01:21<00:00, 539.38it/s]\n"
     ]
    }
   ],
   "source": [
    "from transformers import Wav2Vec2FeatureExtractor\n",
    "\n",
    "cache_dir = \"/data4/yoomcache\"\n",
    "model_cache_dir = os.path.join(cache_dir, 'huggingface')\n",
    "wav2vec_pretrained = \"facebook/wav2vec2-base\"\n",
    "\n",
    "feature_extractor = Wav2Vec2FeatureExtractor.from_pretrained(wav2vec_pretrained, \n",
    "                                                             cache_dir=model_cache_dir)\n",
    "\n",
    "\n",
    "\n",
    "\n",
    "for idx in tqdm(range(len(dataset['audio_array']))):\n",
    "    dataset['audio_array'][idx] = feature_extractor(dataset['audio_array'][idx], \n",
    "                                                    sampling_rate=dataset['sample_rate'],\n",
    "                                                    padding='max_length',\n",
    "                                                    max_length=max_audio_length\n",
    "                                                    ).input_values[0]"
   ]
  },
  {
   "cell_type": "code",
   "execution_count": 12,
   "id": "6a7ca846",
   "metadata": {},
   "outputs": [],
   "source": [
    "dataset['audio_array'] = np.stack(dataset['audio_array'])"
   ]
  },
  {
   "cell_type": "code",
   "execution_count": 13,
   "id": "f5512761",
   "metadata": {},
   "outputs": [
    {
     "data": {
      "text/plain": [
       "dict_keys(['audio_array', 'text', 'sample_rate'])"
      ]
     },
     "execution_count": 13,
     "metadata": {},
     "output_type": "execute_result"
    }
   ],
   "source": [
    "dataset.keys()"
   ]
  },
  {
   "cell_type": "code",
   "execution_count": 14,
   "id": "14639ccc",
   "metadata": {},
   "outputs": [],
   "source": [
    "with open('/data4/TTS/VCTK-Corpus/dataset-vctk-16k (numpy).pkl', 'wb') as f:\n",
    "    pickle.dump(dataset, f)"
   ]
  },
  {
   "cell_type": "code",
   "execution_count": null,
   "id": "f9414b6e",
   "metadata": {},
   "outputs": [],
   "source": []
  }
 ],
 "metadata": {
  "kernelspec": {
   "display_name": "Python 3 (ipykernel)",
   "language": "python",
   "name": "python3"
  },
  "language_info": {
   "codemirror_mode": {
    "name": "ipython",
    "version": 3
   },
   "file_extension": ".py",
   "mimetype": "text/x-python",
   "name": "python",
   "nbconvert_exporter": "python",
   "pygments_lexer": "ipython3",
   "version": "3.8.12"
  }
 },
 "nbformat": 4,
 "nbformat_minor": 5
}
