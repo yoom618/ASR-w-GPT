{
 "cells": [
  {
   "cell_type": "code",
   "execution_count": 1,
   "id": "aceb3a33",
   "metadata": {},
   "outputs": [],
   "source": [
    "import torch\n",
    "import torch.nn as nn\n"
   ]
  },
  {
   "cell_type": "code",
   "execution_count": 2,
   "id": "3fb9209a",
   "metadata": {},
   "outputs": [],
   "source": [
    "rnn = nn.GRU(10, 20, 2)\n",
    "input_ = torch.randn(6, 3, 10) # (seq_len, batch, input_state)\n",
    "h0 = torch.randn(2, 3, 20)\n",
    "c0 = torch.randn(2, 3, 20)\n",
    "output, (hn, cn) = rnn(input_)"
   ]
  },
  {
   "cell_type": "code",
   "execution_count": 3,
   "id": "b32abd7f",
   "metadata": {},
   "outputs": [
    {
     "data": {
      "text/plain": [
       "torch.Size([6, 3, 20])"
      ]
     },
     "execution_count": 3,
     "metadata": {},
     "output_type": "execute_result"
    }
   ],
   "source": [
    "output.shape"
   ]
  },
  {
   "cell_type": "code",
   "execution_count": 4,
   "id": "dc9ee3f6",
   "metadata": {},
   "outputs": [
    {
     "name": "stdout",
     "output_type": "stream",
     "text": [
      "torch.Size([10, 8, 1])\n"
     ]
    }
   ],
   "source": [
    "m = nn.AdaptiveMaxPool1d(8, return_indices=True)\n",
    "input_ = torch.randn(10, 64, 5)\n",
    "output = m(input_[:,:,-1])\n",
    "print(output[1].unsqueeze(-1).shape)"
   ]
  },
  {
   "cell_type": "code",
   "execution_count": 5,
   "id": "962671e8",
   "metadata": {
    "scrolled": true
   },
   "outputs": [
    {
     "data": {
      "text/plain": [
       "tensor([[[-1.5429,  0.6340,  0.0213, -0.4398],\n",
       "         [-1.2478,  0.2702, -0.4008, -0.6441],\n",
       "         [ 0.0443,  1.0501,  0.6601,  0.6121],\n",
       "         ...,\n",
       "         [ 0.1865, -1.7181,  0.1042,  0.8765],\n",
       "         [-1.0143,  0.4232,  1.6150, -1.8313],\n",
       "         [-0.1361,  0.6981, -0.3277, -1.4996]],\n",
       "\n",
       "        [[ 0.6629, -1.7376, -1.8748, -0.5592],\n",
       "         [-0.7976, -0.0771,  0.2584, -0.3644],\n",
       "         [ 0.7348, -1.0431, -1.0107, -1.0151],\n",
       "         ...,\n",
       "         [ 0.7027, -0.7950,  0.6436,  0.0942],\n",
       "         [-1.1621, -0.7787,  0.2876,  1.0734],\n",
       "         [-1.3584,  1.2312,  1.5533,  1.2621]],\n",
       "\n",
       "        [[-0.7100, -1.6533, -1.3300, -0.8893],\n",
       "         [-1.2117,  0.3162,  2.2641,  0.2942],\n",
       "         [ 1.0777,  0.6341, -0.2230, -0.8033],\n",
       "         ...,\n",
       "         [ 0.1786, -0.4029, -1.6282, -0.2730],\n",
       "         [-0.5307,  0.2570,  0.8143, -0.4049],\n",
       "         [-0.0122,  0.1454,  0.3424, -0.0264]],\n",
       "\n",
       "        ...,\n",
       "\n",
       "        [[-0.2174, -0.2704, -0.7285,  1.3974],\n",
       "         [ 0.3481,  1.2417, -0.4331, -0.3122],\n",
       "         [ 0.0398, -0.1888,  0.4977,  0.1452],\n",
       "         ...,\n",
       "         [-0.4318,  0.8430,  1.2528, -3.0972],\n",
       "         [ 0.0390,  0.0914,  0.5017,  1.8167],\n",
       "         [-0.0725,  0.5601,  0.7720,  0.2864]],\n",
       "\n",
       "        [[ 0.7197, -1.4119, -0.2096,  0.4245],\n",
       "         [-0.6899, -0.9095,  1.0379, -0.2192],\n",
       "         [-0.0942, -0.0754, -1.2742,  0.1211],\n",
       "         ...,\n",
       "         [-0.7788, -0.6605,  0.5833,  1.4544],\n",
       "         [-1.9642,  0.3338, -1.3833,  0.5429],\n",
       "         [ 0.8644, -1.0221, -1.6948, -1.2280]],\n",
       "\n",
       "        [[ 0.7897, -0.6454,  0.4073, -0.1202],\n",
       "         [ 2.0571,  0.9530,  0.3805, -1.0714],\n",
       "         [ 0.0653,  0.1665,  0.4623,  1.2116],\n",
       "         ...,\n",
       "         [ 1.5532, -0.2001, -0.5614,  0.2887],\n",
       "         [ 0.7152, -0.9273,  0.2134, -0.6666],\n",
       "         [ 0.7531,  0.0130, -2.2625, -1.8469]]])"
      ]
     },
     "execution_count": 5,
     "metadata": {},
     "output_type": "execute_result"
    }
   ],
   "source": [
    "input_[:,:,:-1]"
   ]
  },
  {
   "cell_type": "code",
   "execution_count": 6,
   "id": "32fb9d1d",
   "metadata": {},
   "outputs": [
    {
     "data": {
      "text/plain": [
       "tensor([[ 5, 10, 23, 30, 34, 46, 54, 60],\n",
       "        [ 1, 10, 17, 31, 36, 44, 50, 57],\n",
       "        [ 3, 12, 19, 28, 32, 46, 52, 63],\n",
       "        [ 6,  8, 16, 28, 36, 41, 54, 56],\n",
       "        [ 4,  8, 23, 30, 39, 41, 52, 61],\n",
       "        [ 4, 14, 20, 26, 39, 46, 53, 56],\n",
       "        [ 0, 13, 19, 27, 34, 47, 53, 58],\n",
       "        [ 7, 13, 20, 26, 39, 40, 52, 57],\n",
       "        [ 7, 13, 23, 24, 36, 40, 52, 60],\n",
       "        [ 2, 14, 23, 26, 34, 43, 54, 56]])"
      ]
     },
     "execution_count": 6,
     "metadata": {},
     "output_type": "execute_result"
    }
   ],
   "source": [
    "word_indices = output[1]\n",
    "word_indices"
   ]
  },
  {
   "cell_type": "code",
   "execution_count": 7,
   "id": "b96d2176",
   "metadata": {
    "scrolled": true
   },
   "outputs": [
    {
     "data": {
      "text/plain": [
       "tensor([[[ 5,  5,  5,  5],\n",
       "         [10, 10, 10, 10],\n",
       "         [23, 23, 23, 23],\n",
       "         [30, 30, 30, 30],\n",
       "         [34, 34, 34, 34],\n",
       "         [46, 46, 46, 46],\n",
       "         [54, 54, 54, 54],\n",
       "         [60, 60, 60, 60]],\n",
       "\n",
       "        [[ 1,  1,  1,  1],\n",
       "         [10, 10, 10, 10],\n",
       "         [17, 17, 17, 17],\n",
       "         [31, 31, 31, 31],\n",
       "         [36, 36, 36, 36],\n",
       "         [44, 44, 44, 44],\n",
       "         [50, 50, 50, 50],\n",
       "         [57, 57, 57, 57]],\n",
       "\n",
       "        [[ 3,  3,  3,  3],\n",
       "         [12, 12, 12, 12],\n",
       "         [19, 19, 19, 19],\n",
       "         [28, 28, 28, 28],\n",
       "         [32, 32, 32, 32],\n",
       "         [46, 46, 46, 46],\n",
       "         [52, 52, 52, 52],\n",
       "         [63, 63, 63, 63]],\n",
       "\n",
       "        [[ 6,  6,  6,  6],\n",
       "         [ 8,  8,  8,  8],\n",
       "         [16, 16, 16, 16],\n",
       "         [28, 28, 28, 28],\n",
       "         [36, 36, 36, 36],\n",
       "         [41, 41, 41, 41],\n",
       "         [54, 54, 54, 54],\n",
       "         [56, 56, 56, 56]],\n",
       "\n",
       "        [[ 4,  4,  4,  4],\n",
       "         [ 8,  8,  8,  8],\n",
       "         [23, 23, 23, 23],\n",
       "         [30, 30, 30, 30],\n",
       "         [39, 39, 39, 39],\n",
       "         [41, 41, 41, 41],\n",
       "         [52, 52, 52, 52],\n",
       "         [61, 61, 61, 61]],\n",
       "\n",
       "        [[ 4,  4,  4,  4],\n",
       "         [14, 14, 14, 14],\n",
       "         [20, 20, 20, 20],\n",
       "         [26, 26, 26, 26],\n",
       "         [39, 39, 39, 39],\n",
       "         [46, 46, 46, 46],\n",
       "         [53, 53, 53, 53],\n",
       "         [56, 56, 56, 56]],\n",
       "\n",
       "        [[ 0,  0,  0,  0],\n",
       "         [13, 13, 13, 13],\n",
       "         [19, 19, 19, 19],\n",
       "         [27, 27, 27, 27],\n",
       "         [34, 34, 34, 34],\n",
       "         [47, 47, 47, 47],\n",
       "         [53, 53, 53, 53],\n",
       "         [58, 58, 58, 58]],\n",
       "\n",
       "        [[ 7,  7,  7,  7],\n",
       "         [13, 13, 13, 13],\n",
       "         [20, 20, 20, 20],\n",
       "         [26, 26, 26, 26],\n",
       "         [39, 39, 39, 39],\n",
       "         [40, 40, 40, 40],\n",
       "         [52, 52, 52, 52],\n",
       "         [57, 57, 57, 57]],\n",
       "\n",
       "        [[ 7,  7,  7,  7],\n",
       "         [13, 13, 13, 13],\n",
       "         [23, 23, 23, 23],\n",
       "         [24, 24, 24, 24],\n",
       "         [36, 36, 36, 36],\n",
       "         [40, 40, 40, 40],\n",
       "         [52, 52, 52, 52],\n",
       "         [60, 60, 60, 60]],\n",
       "\n",
       "        [[ 2,  2,  2,  2],\n",
       "         [14, 14, 14, 14],\n",
       "         [23, 23, 23, 23],\n",
       "         [26, 26, 26, 26],\n",
       "         [34, 34, 34, 34],\n",
       "         [43, 43, 43, 43],\n",
       "         [54, 54, 54, 54],\n",
       "         [56, 56, 56, 56]]])"
      ]
     },
     "execution_count": 7,
     "metadata": {},
     "output_type": "execute_result"
    }
   ],
   "source": [
    "word_indices.unsqueeze(-1).expand(-1,-1,4)"
   ]
  },
  {
   "cell_type": "code",
   "execution_count": 16,
   "id": "21b82888",
   "metadata": {},
   "outputs": [
    {
     "data": {
      "text/plain": [
       "torch.Size([10, 8, 4])"
      ]
     },
     "execution_count": 16,
     "metadata": {},
     "output_type": "execute_result"
    }
   ],
   "source": [
    "torch.gather(input_[:,:,:-1], 1, word_indices.unsqueeze(-1).expand(-1,-1,4)).shape"
   ]
  },
  {
   "cell_type": "code",
   "execution_count": 18,
   "id": "9bd8d6e8",
   "metadata": {
    "scrolled": true
   },
   "outputs": [
    {
     "data": {
      "text/plain": [
       "torch.Size([10, 8, 4])"
      ]
     },
     "execution_count": 18,
     "metadata": {},
     "output_type": "execute_result"
    }
   ],
   "source": [
    "torch.gather(input_[:,:,-1], 1, word_indices).unsqueeze(-1).expand(-1,-1,4).shape"
   ]
  },
  {
   "cell_type": "code",
   "execution_count": null,
   "id": "6cdbb4af",
   "metadata": {},
   "outputs": [],
   "source": []
  },
  {
   "cell_type": "code",
   "execution_count": 21,
   "id": "a72d23e4",
   "metadata": {},
   "outputs": [
    {
     "data": {
      "text/plain": [
       "tensor([[-9.2207e-01, -7.6410e-01, -1.7134e-01, -5.0198e-01, -1.2302e-01,\n",
       "          8.9560e-01, -3.1077e-01,  8.1662e-01,  1.0444e+00, -1.1493e+00,\n",
       "          1.0750e+00,  7.1342e-01, -5.0384e-01, -8.5118e-01,  5.0761e-01,\n",
       "         -1.0920e+00, -7.6868e-01, -9.4253e-01, -4.0371e-01, -3.6936e-01,\n",
       "          4.1913e-01,  9.9482e-01, -5.6367e-01,  2.0912e+00,  3.1208e-01,\n",
       "         -2.0521e-02, -3.5424e-01,  9.6812e-01, -7.6067e-01, -1.2391e-01,\n",
       "          1.6624e+00, -3.0700e-01, -2.9141e-01,  1.0921e+00,  2.2300e+00,\n",
       "         -2.8275e-01,  2.5497e-02,  3.1896e-01, -1.5411e+00, -3.4351e-01,\n",
       "          3.4437e-01, -3.3186e-01, -1.0089e-01,  8.0577e-01,  8.7644e-01,\n",
       "         -1.3401e+00,  1.0617e+00,  4.5645e-01, -1.6119e+00,  4.3361e-01,\n",
       "         -9.6377e-01, -6.0172e-01, -1.2605e-01,  1.2165e+00,  1.4890e+00,\n",
       "          4.9933e-01,  1.1439e-01, -1.9539e+00,  4.8629e-01, -9.7221e-01,\n",
       "          6.2243e-01, -3.7639e-01,  2.7205e-01, -1.2709e+00],\n",
       "        [-1.1877e+00,  2.4376e-01, -1.0390e-01, -4.5039e-01, -3.5629e-01,\n",
       "         -3.2462e-01, -2.9339e-01, -2.1410e-01,  5.2946e-01, -1.4473e-02,\n",
       "          1.1401e+00,  1.0809e+00, -1.7521e+00,  3.3532e-01,  1.3114e-01,\n",
       "          2.3378e-01, -7.5696e-01,  1.2351e+00, -1.3774e-01, -2.0235e-01,\n",
       "         -8.5053e-02, -9.0128e-01, -5.0995e-01, -5.5745e-01, -9.9126e-01,\n",
       "          1.0755e-01, -1.0691e+00,  3.5526e-01,  1.0528e+00, -8.8469e-01,\n",
       "          4.2009e-01,  3.0008e+00,  8.9369e-01, -1.2975e-01, -1.3953e+00,\n",
       "         -9.0708e-01,  1.9334e+00, -5.9129e-01, -4.3582e-01,  4.4333e-01,\n",
       "         -2.2158e-02, -6.2134e-01, -1.3937e+00,  7.3018e-01,  1.2790e+00,\n",
       "         -5.7253e-01, -9.6975e-01, -3.0040e-01, -1.5927e-01,  5.6851e-01,\n",
       "          9.4043e-01, -7.8340e-01, -1.0387e+00,  6.9238e-01,  5.7911e-01,\n",
       "          6.6958e-01, -4.2527e-01,  1.3894e+00,  1.2003e+00,  6.7962e-01,\n",
       "         -6.0720e-01,  3.2726e-01, -4.1956e-01, -4.1413e-02],\n",
       "        [ 1.3766e-01, -1.3597e+00,  4.9669e-02,  8.2626e-01, -6.3974e-01,\n",
       "         -6.4811e-01, -7.6873e-02, -5.3154e-01, -7.7928e-01,  4.3384e-01,\n",
       "          2.0055e-01, -4.9104e-01,  1.1613e+00,  7.1585e-01, -4.4632e-01,\n",
       "          8.9006e-01,  3.8087e-01, -4.4504e-01,  3.4612e-01,  4.3722e-01,\n",
       "         -2.5665e-01, -1.3310e+00, -5.0763e-01,  2.2685e-01, -1.9085e+00,\n",
       "         -4.5484e-01,  6.2818e-01, -1.2894e+00,  8.2929e-01, -1.9569e-01,\n",
       "         -6.7271e-01, -2.4478e-01,  1.5564e+00,  1.1126e+00,  5.0813e-01,\n",
       "         -3.4849e-01, -5.8476e-02,  7.7252e-02,  8.2563e-01, -1.1854e+00,\n",
       "          7.4529e-03, -1.8896e+00, -6.7359e-01,  8.3060e-01, -4.2428e-01,\n",
       "         -6.1835e-01,  1.2424e+00, -1.9437e+00, -1.1404e+00, -3.4654e-01,\n",
       "         -1.7116e+00,  8.8131e-01,  1.8193e+00, -1.7843e+00,  1.3860e+00,\n",
       "          7.6269e-01, -1.0334e+00,  3.4068e-01, -5.9786e-01, -2.3185e+00,\n",
       "         -7.9558e-01,  1.1862e+00, -4.1718e-01,  1.8397e+00],\n",
       "        [-2.3340e-01, -1.2087e+00,  5.5895e-01,  3.4196e-01, -3.9501e-01,\n",
       "         -3.0724e-01,  1.2631e+00,  4.9830e-02,  1.5280e+00, -1.6997e+00,\n",
       "          1.8007e-01, -8.5985e-01,  1.3149e-01, -3.8143e-02, -2.7882e-01,\n",
       "          7.7458e-01,  2.1221e+00,  1.4238e+00,  1.0395e+00,  7.7880e-01,\n",
       "         -2.1971e+00,  6.9739e-01, -4.6184e-01, -7.5268e-01, -3.3260e-01,\n",
       "          4.9590e-02, -1.2502e-01, -6.1035e-01,  7.7698e-01,  1.0429e-01,\n",
       "          4.8459e-02, -9.0489e-01, -8.6957e-01,  2.6951e-01,  5.5079e-01,\n",
       "         -3.1094e-01,  1.8635e+00, -2.4880e+00,  1.3248e-01,  1.5540e-01,\n",
       "         -1.9159e+00,  2.8957e-01, -1.0709e+00, -3.8650e-01, -2.4562e+00,\n",
       "         -1.0224e+00,  1.0064e-01, -3.9990e-01, -1.4915e+00, -8.0580e-01,\n",
       "          2.9418e-01,  5.9265e-01, -3.6048e-01,  1.3289e+00,  3.3050e+00,\n",
       "         -2.2432e+00,  1.4836e+00,  6.3878e-01, -2.2016e-01, -1.3085e+00,\n",
       "          1.2396e+00,  3.1010e-01,  1.1819e-01,  1.0607e+00],\n",
       "        [ 3.2469e-01,  6.5944e-01, -4.8363e-01, -5.6006e-03,  9.0848e-01,\n",
       "         -6.7214e-01, -1.7672e+00, -4.5946e-01,  1.8102e+00, -1.5164e+00,\n",
       "         -7.5426e-01, -9.0267e-01, -1.4655e+00, -1.1111e+00, -1.9519e+00,\n",
       "         -2.5963e-02, -7.4828e-01, -2.6070e-01, -3.7933e-01, -1.8666e+00,\n",
       "         -7.9521e-01, -1.4610e-01, -5.5557e-01,  9.6294e-01, -1.0082e-01,\n",
       "         -1.1805e+00, -2.0733e+00, -1.2551e+00, -1.5695e+00,  1.7699e-01,\n",
       "          2.1842e-01,  3.2171e-02,  8.6461e-01, -2.0449e+00,  1.2601e+00,\n",
       "         -1.1065e+00,  1.3182e-01, -1.2915e-01,  3.8582e-01,  2.3698e+00,\n",
       "          1.5704e+00,  2.0419e+00, -1.5849e+00, -1.0353e+00,  1.2053e+00,\n",
       "          1.1721e+00,  3.2927e-01,  4.7988e-02,  8.3423e-01, -1.9063e+00,\n",
       "         -1.8905e+00, -1.0871e+00,  1.8178e+00, -3.3174e-01, -6.1474e-01,\n",
       "          1.1290e+00, -5.9058e-01, -2.0651e-01, -9.0317e-01, -1.1779e+00,\n",
       "         -5.5905e-01,  1.1572e+00,  1.1561e-01,  1.0536e+00],\n",
       "        [ 7.0519e-01,  1.0172e+00, -7.9767e-01, -1.7840e-01,  1.2183e+00,\n",
       "         -1.2468e+00, -4.3197e-02,  7.3213e-01,  4.1480e-01, -6.5528e-01,\n",
       "          9.5821e-01, -3.7222e-01,  1.2119e+00, -9.7305e-02,  1.4578e+00,\n",
       "          9.7994e-01, -7.3198e-01, -4.4493e-01,  4.7592e-01, -1.7026e+00,\n",
       "          9.0674e-01,  7.5838e-01, -1.1743e-01, -1.0115e-02, -7.1063e-02,\n",
       "          6.2748e-01,  2.2072e+00, -8.4768e-01, -4.6918e-01,  2.1674e+00,\n",
       "         -1.8055e-01, -1.8709e+00, -9.3295e-01, -1.3073e+00,  1.1704e-02,\n",
       "         -1.4361e+00,  3.4772e-01, -1.6029e+00,  1.1877e-01,  1.4210e+00,\n",
       "          5.0540e-02,  4.8289e-01, -7.2040e-01,  1.6101e-02, -2.2231e+00,\n",
       "         -3.5770e-01,  2.6055e+00,  3.4887e-01,  7.1864e-02,  4.7082e-01,\n",
       "          6.5491e-01,  9.6665e-01,  2.7838e-01,  1.1444e+00,  7.1362e-01,\n",
       "         -1.0265e-01,  1.7403e+00, -4.2465e-01,  1.0029e+00,  4.3431e-01,\n",
       "         -1.2830e+00, -6.5202e-01, -1.5249e+00, -2.4089e+00],\n",
       "        [ 1.0076e+00,  8.9171e-01, -7.5953e-01, -1.9783e-01, -8.5990e-01,\n",
       "          7.3148e-01, -3.5596e-01,  8.1045e-01, -4.5572e-02,  3.1762e-01,\n",
       "          1.9798e-02, -1.4976e+00,  8.1640e-01,  2.8735e+00, -1.5696e-01,\n",
       "         -7.5302e-02, -1.2199e+00, -1.0230e+00, -6.1164e-01,  1.5877e+00,\n",
       "          8.0035e-01,  4.3402e-01,  1.2697e+00, -3.5719e-03,  1.4428e-01,\n",
       "         -1.0678e+00, -1.1336e+00,  1.3382e+00, -6.7382e-01,  7.8363e-02,\n",
       "          1.2582e+00,  6.9765e-01, -1.2211e+00, -1.9134e+00,  3.2553e-01,\n",
       "         -7.7839e-01, -4.0466e-01, -1.7728e+00, -1.3905e+00, -3.9053e-01,\n",
       "         -5.9551e-01, -1.0679e+00,  1.0429e+00,  2.2585e-01,  2.7631e-01,\n",
       "         -1.5129e-01, -7.5886e-01,  1.2615e+00, -1.4396e+00, -6.2677e-01,\n",
       "         -6.1545e-01, -5.9167e-01, -2.0570e+00,  3.2294e-01,  1.7647e-01,\n",
       "         -1.3902e+00, -9.8746e-01,  1.3118e+00,  2.1094e+00,  2.2723e-02,\n",
       "          1.3923e+00, -8.4293e-01,  8.8252e-01,  2.0440e+00],\n",
       "        [ 1.1481e-01,  1.5682e-01, -3.9929e-01, -6.1045e-01,  2.7097e-01,\n",
       "          1.1790e+00,  6.9840e-01,  2.6476e+00,  5.6827e-01,  3.8382e-01,\n",
       "         -4.1753e-01,  9.1411e-01,  1.3518e+00,  1.5806e+00, -2.4188e+00,\n",
       "         -1.9551e+00,  2.2742e-01,  8.2385e-01,  1.7880e-01,  8.9823e-02,\n",
       "          9.0821e-01, -7.9808e-01,  2.5564e-01,  4.7637e-01, -4.9739e-01,\n",
       "         -3.5311e-02,  1.4876e+00, -1.1123e+00, -7.0267e-01,  3.8490e-01,\n",
       "          6.0692e-01,  3.9589e-01, -2.0170e+00,  4.2542e-01,  7.0449e-02,\n",
       "         -3.1959e-01,  4.4249e-01, -8.6381e-01,  8.2934e-01,  1.8731e+00,\n",
       "          1.1687e+00,  7.8217e-01,  3.0647e-01,  6.2831e-01,  1.6082e-01,\n",
       "          1.2308e-01,  1.1199e+00,  7.1022e-01, -1.0147e+00,  6.5427e-01,\n",
       "         -1.9054e-01, -1.2200e+00,  1.3504e+00,  1.7946e-02,  4.9896e-01,\n",
       "         -1.3823e-01, -9.8989e-01,  1.5210e+00,  1.7623e-01, -4.1795e-01,\n",
       "          4.1551e-01,  6.3922e-01, -5.7521e-03,  6.3160e-01],\n",
       "        [-7.1596e-01,  4.2531e-01, -6.9302e-01,  4.4671e-01, -7.2080e-01,\n",
       "          1.5932e+00,  1.2866e+00,  1.8882e+00, -1.2342e+00, -1.4859e+00,\n",
       "          1.1808e+00, -4.1941e-02,  1.2252e+00,  1.6184e+00,  4.6427e-01,\n",
       "         -6.7204e-01,  4.0079e-02, -1.1033e+00,  1.1682e+00, -6.8071e-01,\n",
       "          7.2311e-01,  6.8656e-01, -4.7703e-01,  1.4223e+00,  1.3951e+00,\n",
       "          9.0145e-01,  4.4418e-01, -1.6669e+00, -3.1648e-01, -1.7409e-01,\n",
       "         -2.0725e+00, -1.3863e+00, -3.1588e-02, -1.2346e-01,  1.6867e-01,\n",
       "         -6.3258e-01,  1.3444e+00, -1.1811e+00,  7.5275e-01, -2.0085e-01,\n",
       "          1.9626e+00, -1.9329e-01, -6.9651e-02, -4.7454e-02, -2.2585e-01,\n",
       "         -1.8798e+00, -2.2078e-01, -4.1608e-01, -2.6874e-01,  6.7061e-02,\n",
       "         -8.4757e-02, -1.7547e+00,  1.0068e+00, -5.9113e-01, -1.5253e-01,\n",
       "         -7.9053e-01,  8.0513e-02,  2.0504e-01,  4.9367e-01, -1.5692e+00,\n",
       "          1.3364e+00, -1.2085e+00, -3.3876e-01,  9.2198e-01],\n",
       "        [-3.3337e-01,  4.0456e-01,  2.6192e+00,  3.6337e-01,  7.6273e-01,\n",
       "          1.6194e-01, -1.9866e+00, -1.6673e-01,  1.2029e-01,  1.5067e+00,\n",
       "          1.9487e-01,  1.2753e+00,  5.9660e-01, -1.0612e-01,  2.1333e+00,\n",
       "         -1.2626e+00,  1.4497e+00, -2.2032e-03, -9.0093e-01,  2.4098e-01,\n",
       "         -1.0606e+00,  1.2236e+00,  3.3606e-01,  2.0550e+00,  2.6759e-01,\n",
       "          1.4818e-01,  1.6061e+00,  1.2568e+00, -4.9947e-01, -1.6680e+00,\n",
       "          2.3272e-01,  7.6348e-01, -2.4864e-01, -1.0534e+00,  2.0124e+00,\n",
       "         -8.9586e-01,  7.4928e-01,  4.0139e-01, -5.3419e-01, -2.8217e-01,\n",
       "          4.9419e-01,  1.4288e+00, -4.6152e-01,  1.5113e+00, -1.8914e-01,\n",
       "          7.4691e-01, -9.2293e-01,  3.2674e-01,  8.2385e-01, -8.7539e-01,\n",
       "          5.9381e-01,  1.0902e+00,  1.6890e+00, -1.7807e+00,  1.7192e+00,\n",
       "         -2.5063e-01,  1.2631e+00, -1.5665e+00, -5.7157e-01,  3.4914e-01,\n",
       "         -8.6680e-01, -1.6855e-01, -6.2657e-01, -6.3048e-01]])"
      ]
     },
     "execution_count": 21,
     "metadata": {},
     "output_type": "execute_result"
    }
   ],
   "source": [
    "input_[:,:,-1]"
   ]
  },
  {
   "cell_type": "code",
   "execution_count": 26,
   "id": "28765682",
   "metadata": {},
   "outputs": [
    {
     "data": {
      "text/plain": [
       "tensor([[ 7, 10, 23, 30, 33, 46, 49, 58],\n",
       "        [ 1, 13, 17, 31, 36, 43, 53, 57],\n",
       "        [ 2, 12, 22, 28, 32, 46, 54, 63],\n",
       "        [ 2, 10, 21, 28, 38, 41, 56, 56],\n",
       "        [ 8,  8, 23, 29, 34, 44, 52, 61],\n",
       "        [ 4, 10, 20, 29, 36, 46, 56, 56],\n",
       "        [ 5, 12, 19, 27, 34, 42, 53, 57],\n",
       "        [ 7, 16, 16, 26, 33, 46, 52, 57],\n",
       "        [ 5, 10, 18, 32, 40, 40, 52, 60],\n",
       "        [ 2, 16, 16, 30, 34, 43, 54, 56]])"
      ]
     },
     "execution_count": 26,
     "metadata": {},
     "output_type": "execute_result"
    }
   ],
   "source": [
    "m(input_[:,1:,-1] - input_[:,:-1,-1])[1] + 1"
   ]
  },
  {
   "cell_type": "code",
   "execution_count": null,
   "id": "3f487ab1",
   "metadata": {},
   "outputs": [],
   "source": []
  },
  {
   "cell_type": "code",
   "execution_count": null,
   "id": "85925c89",
   "metadata": {},
   "outputs": [],
   "source": []
  },
  {
   "cell_type": "code",
   "execution_count": null,
   "id": "8d636261",
   "metadata": {},
   "outputs": [],
   "source": []
  },
  {
   "cell_type": "code",
   "execution_count": null,
   "id": "26781c6b",
   "metadata": {},
   "outputs": [],
   "source": []
  },
  {
   "cell_type": "code",
   "execution_count": null,
   "id": "9fb43eff",
   "metadata": {},
   "outputs": [],
   "source": []
  },
  {
   "cell_type": "code",
   "execution_count": null,
   "id": "ee7dc38f",
   "metadata": {},
   "outputs": [],
   "source": []
  },
  {
   "cell_type": "code",
   "execution_count": null,
   "id": "d96ac8cc",
   "metadata": {
    "scrolled": true
   },
   "outputs": [],
   "source": []
  },
  {
   "cell_type": "code",
   "execution_count": 3,
   "id": "4c41ae37",
   "metadata": {},
   "outputs": [],
   "source": [
    "import os\n",
    "# os.environ[\"CUDA_DEVICE_ORDER\"] = \"PCI_BUS_ID\"\n",
    "# os.environ[\"CUDA_VISIBLE_DEVICES\"] = \"0\"\n",
    "# device = 'cuda:0'\n",
    "\n",
    "cache_dir = \"/data4/yoomcache\"\n",
    "model_cache_dir = os.path.join(cache_dir, 'huggingface')\n",
    "data_cache_dir = os.path.join(cache_dir, 'datasets')\n",
    "checkpoint_dir = os.path.join(cache_dir, 'checkpoint')\n",
    "\n",
    "\n",
    "import torch\n",
    "from transformers import GPT2Tokenizer, GPT2LMHeadModel\n",
    "from datasets import load_dataset\n",
    "\n",
    "tokenizer = GPT2Tokenizer.from_pretrained(\"gpt2\", cache_dir=model_cache_dir)\n",
    "model = GPT2LMHeadModel.from_pretrained(\"gpt2\", cache_dir=model_cache_dir)"
   ]
  },
  {
   "cell_type": "code",
   "execution_count": 6,
   "id": "0da3fd6b",
   "metadata": {},
   "outputs": [
    {
     "data": {
      "application/vnd.jupyter.widget-view+json": {
       "model_id": "f837ea14127942f193c6987d4c7e138e",
       "version_major": 2,
       "version_minor": 0
      },
      "text/plain": [
       "Downloading builder script:   0%|          | 0.00/2.40k [00:00<?, ?B/s]"
      ]
     },
     "metadata": {},
     "output_type": "display_data"
    },
    {
     "data": {
      "application/vnd.jupyter.widget-view+json": {
       "model_id": "33e8cdd3005f4d8b9dac0f477739a3a6",
       "version_major": 2,
       "version_minor": 0
      },
      "text/plain": [
       "Downloading metadata:   0%|          | 0.00/1.82k [00:00<?, ?B/s]"
      ]
     },
     "metadata": {},
     "output_type": "display_data"
    },
    {
     "name": "stdout",
     "output_type": "stream",
     "text": [
      "Downloading and preparing dataset librispeech_asr/clean (download: 28.05 GiB, generated: 29.10 GiB, post-processed: Unknown size, total: 57.15 GiB) to /data4/yoomcache/datasets/librispeech_asr/clean/2.1.0/8c6e15bda76db687d2a7c7198808151adecbb4d890ff463033a2e6f788c0ba25...\n"
     ]
    },
    {
     "data": {
      "application/vnd.jupyter.widget-view+json": {
       "model_id": "ef74dd81b7fa4d9ea1be73b05650399b",
       "version_major": 2,
       "version_minor": 0
      },
      "text/plain": [
       "Downloading data files:   0%|          | 0/4 [00:00<?, ?it/s]"
      ]
     },
     "metadata": {},
     "output_type": "display_data"
    },
    {
     "data": {
      "application/vnd.jupyter.widget-view+json": {
       "model_id": "7799a6783d3b4a33b2d06c1a2f9b0443",
       "version_major": 2,
       "version_minor": 0
      },
      "text/plain": [
       "Downloading data:   0%|          | 0.00/338M [00:00<?, ?B/s]"
      ]
     },
     "metadata": {},
     "output_type": "display_data"
    },
    {
     "data": {
      "application/vnd.jupyter.widget-view+json": {
       "model_id": "072e4a361c2d48d59a6ab6b2ea503fbb",
       "version_major": 2,
       "version_minor": 0
      },
      "text/plain": [
       "Downloading data:   0%|          | 0.00/347M [00:00<?, ?B/s]"
      ]
     },
     "metadata": {},
     "output_type": "display_data"
    },
    {
     "data": {
      "application/vnd.jupyter.widget-view+json": {
       "model_id": "5c97e5f470564404996958893f4fc1de",
       "version_major": 2,
       "version_minor": 0
      },
      "text/plain": [
       "Downloading data:   0%|          | 0.00/6.39G [00:00<?, ?B/s]"
      ]
     },
     "metadata": {},
     "output_type": "display_data"
    },
    {
     "ename": "KeyboardInterrupt",
     "evalue": "",
     "output_type": "error",
     "traceback": [
      "\u001b[0;31m---------------------------------------------------------------------------\u001b[0m",
      "\u001b[0;31mKeyboardInterrupt\u001b[0m                         Traceback (most recent call last)",
      "Input \u001b[0;32mIn [6]\u001b[0m, in \u001b[0;36m<cell line: 1>\u001b[0;34m()\u001b[0m\n\u001b[0;32m----> 1\u001b[0m dataset \u001b[38;5;241m=\u001b[39m \u001b[43mload_dataset\u001b[49m\u001b[43m(\u001b[49m\u001b[38;5;124;43m\"\u001b[39;49m\u001b[38;5;124;43mlibrispeech_asr\u001b[39;49m\u001b[38;5;124;43m\"\u001b[39;49m\u001b[43m,\u001b[49m\u001b[43m \u001b[49m\u001b[38;5;124;43m\"\u001b[39;49m\u001b[38;5;124;43mclean\u001b[39;49m\u001b[38;5;124;43m\"\u001b[39;49m\u001b[43m,\u001b[49m\u001b[43m \u001b[49m\n\u001b[1;32m      2\u001b[0m \u001b[43m                       \u001b[49m\u001b[43msplit\u001b[49m\u001b[38;5;241;43m=\u001b[39;49m\u001b[38;5;124;43m\"\u001b[39;49m\u001b[38;5;124;43mtest\u001b[39;49m\u001b[38;5;124;43m\"\u001b[39;49m\u001b[43m,\u001b[49m\u001b[43m \u001b[49m\n\u001b[1;32m      3\u001b[0m \u001b[43m                       \u001b[49m\u001b[43mcache_dir\u001b[49m\u001b[38;5;241;43m=\u001b[39;49m\u001b[43mdata_cache_dir\u001b[49m\n\u001b[1;32m      4\u001b[0m \u001b[43m                      \u001b[49m\u001b[43m)\u001b[49m\n\u001b[1;32m      6\u001b[0m dataset \u001b[38;5;241m=\u001b[39m dataset\u001b[38;5;241m.\u001b[39msort(\u001b[38;5;124m\"\u001b[39m\u001b[38;5;124mid\u001b[39m\u001b[38;5;124m\"\u001b[39m)\n\u001b[1;32m      7\u001b[0m sampling_rate \u001b[38;5;241m=\u001b[39m dataset\u001b[38;5;241m.\u001b[39mfeatures[\u001b[38;5;124m\"\u001b[39m\u001b[38;5;124maudio\u001b[39m\u001b[38;5;124m\"\u001b[39m]\u001b[38;5;241m.\u001b[39msampling_rate\n",
      "File \u001b[0;32m~/anaconda3/envs/py38/lib/python3.8/site-packages/datasets/load.py:1687\u001b[0m, in \u001b[0;36mload_dataset\u001b[0;34m(path, name, data_dir, data_files, split, cache_dir, features, download_config, download_mode, ignore_verifications, keep_in_memory, save_infos, revision, use_auth_token, task, streaming, **config_kwargs)\u001b[0m\n\u001b[1;32m   1684\u001b[0m try_from_hf_gcs \u001b[38;5;241m=\u001b[39m path \u001b[38;5;129;01mnot\u001b[39;00m \u001b[38;5;129;01min\u001b[39;00m _PACKAGED_DATASETS_MODULES\n\u001b[1;32m   1686\u001b[0m \u001b[38;5;66;03m# Download and prepare data\u001b[39;00m\n\u001b[0;32m-> 1687\u001b[0m \u001b[43mbuilder_instance\u001b[49m\u001b[38;5;241;43m.\u001b[39;49m\u001b[43mdownload_and_prepare\u001b[49m\u001b[43m(\u001b[49m\n\u001b[1;32m   1688\u001b[0m \u001b[43m    \u001b[49m\u001b[43mdownload_config\u001b[49m\u001b[38;5;241;43m=\u001b[39;49m\u001b[43mdownload_config\u001b[49m\u001b[43m,\u001b[49m\n\u001b[1;32m   1689\u001b[0m \u001b[43m    \u001b[49m\u001b[43mdownload_mode\u001b[49m\u001b[38;5;241;43m=\u001b[39;49m\u001b[43mdownload_mode\u001b[49m\u001b[43m,\u001b[49m\n\u001b[1;32m   1690\u001b[0m \u001b[43m    \u001b[49m\u001b[43mignore_verifications\u001b[49m\u001b[38;5;241;43m=\u001b[39;49m\u001b[43mignore_verifications\u001b[49m\u001b[43m,\u001b[49m\n\u001b[1;32m   1691\u001b[0m \u001b[43m    \u001b[49m\u001b[43mtry_from_hf_gcs\u001b[49m\u001b[38;5;241;43m=\u001b[39;49m\u001b[43mtry_from_hf_gcs\u001b[49m\u001b[43m,\u001b[49m\n\u001b[1;32m   1692\u001b[0m \u001b[43m    \u001b[49m\u001b[43muse_auth_token\u001b[49m\u001b[38;5;241;43m=\u001b[39;49m\u001b[43muse_auth_token\u001b[49m\u001b[43m,\u001b[49m\n\u001b[1;32m   1693\u001b[0m \u001b[43m\u001b[49m\u001b[43m)\u001b[49m\n\u001b[1;32m   1695\u001b[0m \u001b[38;5;66;03m# Build dataset for splits\u001b[39;00m\n\u001b[1;32m   1696\u001b[0m keep_in_memory \u001b[38;5;241m=\u001b[39m (\n\u001b[1;32m   1697\u001b[0m     keep_in_memory \u001b[38;5;28;01mif\u001b[39;00m keep_in_memory \u001b[38;5;129;01mis\u001b[39;00m \u001b[38;5;129;01mnot\u001b[39;00m \u001b[38;5;28;01mNone\u001b[39;00m \u001b[38;5;28;01melse\u001b[39;00m is_small_dataset(builder_instance\u001b[38;5;241m.\u001b[39minfo\u001b[38;5;241m.\u001b[39mdataset_size)\n\u001b[1;32m   1698\u001b[0m )\n",
      "File \u001b[0;32m~/anaconda3/envs/py38/lib/python3.8/site-packages/datasets/builder.py:605\u001b[0m, in \u001b[0;36mDatasetBuilder.download_and_prepare\u001b[0;34m(self, download_config, download_mode, ignore_verifications, try_from_hf_gcs, dl_manager, base_path, use_auth_token, **download_and_prepare_kwargs)\u001b[0m\n\u001b[1;32m    603\u001b[0m         logger\u001b[38;5;241m.\u001b[39mwarning(\u001b[38;5;124m\"\u001b[39m\u001b[38;5;124mHF google storage unreachable. Downloading and preparing it from source\u001b[39m\u001b[38;5;124m\"\u001b[39m)\n\u001b[1;32m    604\u001b[0m \u001b[38;5;28;01mif\u001b[39;00m \u001b[38;5;129;01mnot\u001b[39;00m downloaded_from_gcs:\n\u001b[0;32m--> 605\u001b[0m     \u001b[38;5;28;43mself\u001b[39;49m\u001b[38;5;241;43m.\u001b[39;49m\u001b[43m_download_and_prepare\u001b[49m\u001b[43m(\u001b[49m\n\u001b[1;32m    606\u001b[0m \u001b[43m        \u001b[49m\u001b[43mdl_manager\u001b[49m\u001b[38;5;241;43m=\u001b[39;49m\u001b[43mdl_manager\u001b[49m\u001b[43m,\u001b[49m\u001b[43m \u001b[49m\u001b[43mverify_infos\u001b[49m\u001b[38;5;241;43m=\u001b[39;49m\u001b[43mverify_infos\u001b[49m\u001b[43m,\u001b[49m\u001b[43m \u001b[49m\u001b[38;5;241;43m*\u001b[39;49m\u001b[38;5;241;43m*\u001b[39;49m\u001b[43mdownload_and_prepare_kwargs\u001b[49m\n\u001b[1;32m    607\u001b[0m \u001b[43m    \u001b[49m\u001b[43m)\u001b[49m\n\u001b[1;32m    608\u001b[0m \u001b[38;5;66;03m# Sync info\u001b[39;00m\n\u001b[1;32m    609\u001b[0m \u001b[38;5;28mself\u001b[39m\u001b[38;5;241m.\u001b[39minfo\u001b[38;5;241m.\u001b[39mdataset_size \u001b[38;5;241m=\u001b[39m \u001b[38;5;28msum\u001b[39m(split\u001b[38;5;241m.\u001b[39mnum_bytes \u001b[38;5;28;01mfor\u001b[39;00m split \u001b[38;5;129;01min\u001b[39;00m \u001b[38;5;28mself\u001b[39m\u001b[38;5;241m.\u001b[39minfo\u001b[38;5;241m.\u001b[39msplits\u001b[38;5;241m.\u001b[39mvalues())\n",
      "File \u001b[0;32m~/anaconda3/envs/py38/lib/python3.8/site-packages/datasets/builder.py:1104\u001b[0m, in \u001b[0;36mGeneratorBasedBuilder._download_and_prepare\u001b[0;34m(self, dl_manager, verify_infos)\u001b[0m\n\u001b[1;32m   1103\u001b[0m \u001b[38;5;28;01mdef\u001b[39;00m \u001b[38;5;21m_download_and_prepare\u001b[39m(\u001b[38;5;28mself\u001b[39m, dl_manager, verify_infos):\n\u001b[0;32m-> 1104\u001b[0m     \u001b[38;5;28;43msuper\u001b[39;49m\u001b[43m(\u001b[49m\u001b[43m)\u001b[49m\u001b[38;5;241;43m.\u001b[39;49m\u001b[43m_download_and_prepare\u001b[49m\u001b[43m(\u001b[49m\u001b[43mdl_manager\u001b[49m\u001b[43m,\u001b[49m\u001b[43m \u001b[49m\u001b[43mverify_infos\u001b[49m\u001b[43m,\u001b[49m\u001b[43m \u001b[49m\u001b[43mcheck_duplicate_keys\u001b[49m\u001b[38;5;241;43m=\u001b[39;49m\u001b[43mverify_infos\u001b[49m\u001b[43m)\u001b[49m\n",
      "File \u001b[0;32m~/anaconda3/envs/py38/lib/python3.8/site-packages/datasets/builder.py:672\u001b[0m, in \u001b[0;36mDatasetBuilder._download_and_prepare\u001b[0;34m(self, dl_manager, verify_infos, **prepare_split_kwargs)\u001b[0m\n\u001b[1;32m    670\u001b[0m split_dict \u001b[38;5;241m=\u001b[39m SplitDict(dataset_name\u001b[38;5;241m=\u001b[39m\u001b[38;5;28mself\u001b[39m\u001b[38;5;241m.\u001b[39mname)\n\u001b[1;32m    671\u001b[0m split_generators_kwargs \u001b[38;5;241m=\u001b[39m \u001b[38;5;28mself\u001b[39m\u001b[38;5;241m.\u001b[39m_make_split_generators_kwargs(prepare_split_kwargs)\n\u001b[0;32m--> 672\u001b[0m split_generators \u001b[38;5;241m=\u001b[39m \u001b[38;5;28;43mself\u001b[39;49m\u001b[38;5;241;43m.\u001b[39;49m\u001b[43m_split_generators\u001b[49m\u001b[43m(\u001b[49m\u001b[43mdl_manager\u001b[49m\u001b[43m,\u001b[49m\u001b[43m \u001b[49m\u001b[38;5;241;43m*\u001b[39;49m\u001b[38;5;241;43m*\u001b[39;49m\u001b[43msplit_generators_kwargs\u001b[49m\u001b[43m)\u001b[49m\n\u001b[1;32m    674\u001b[0m \u001b[38;5;66;03m# Checksums verification\u001b[39;00m\n\u001b[1;32m    675\u001b[0m \u001b[38;5;28;01mif\u001b[39;00m verify_infos:\n",
      "File \u001b[0;32m~/.cache/huggingface/modules/datasets_modules/datasets/librispeech_asr/8c6e15bda76db687d2a7c7198808151adecbb4d890ff463033a2e6f788c0ba25/librispeech_asr.py:119\u001b[0m, in \u001b[0;36mLibrispeechASR._split_generators\u001b[0;34m(self, dl_manager)\u001b[0m\n\u001b[1;32m    118\u001b[0m \u001b[38;5;28;01mdef\u001b[39;00m \u001b[38;5;21m_split_generators\u001b[39m(\u001b[38;5;28mself\u001b[39m, dl_manager):\n\u001b[0;32m--> 119\u001b[0m     archive_path \u001b[38;5;241m=\u001b[39m \u001b[43mdl_manager\u001b[49m\u001b[38;5;241;43m.\u001b[39;49m\u001b[43mdownload\u001b[49m\u001b[43m(\u001b[49m\u001b[43m_DL_URLS\u001b[49m\u001b[43m[\u001b[49m\u001b[38;5;28;43mself\u001b[39;49m\u001b[38;5;241;43m.\u001b[39;49m\u001b[43mconfig\u001b[49m\u001b[38;5;241;43m.\u001b[39;49m\u001b[43mname\u001b[49m\u001b[43m]\u001b[49m\u001b[43m)\u001b[49m\n\u001b[1;32m    121\u001b[0m     \u001b[38;5;28;01mif\u001b[39;00m \u001b[38;5;28mself\u001b[39m\u001b[38;5;241m.\u001b[39mconfig\u001b[38;5;241m.\u001b[39mname \u001b[38;5;241m==\u001b[39m \u001b[38;5;124m\"\u001b[39m\u001b[38;5;124mclean\u001b[39m\u001b[38;5;124m\"\u001b[39m:\n\u001b[1;32m    122\u001b[0m         train_splits \u001b[38;5;241m=\u001b[39m [\n\u001b[1;32m    123\u001b[0m             datasets\u001b[38;5;241m.\u001b[39mSplitGenerator(\n\u001b[1;32m    124\u001b[0m                 name\u001b[38;5;241m=\u001b[39m\u001b[38;5;124m\"\u001b[39m\u001b[38;5;124mtrain.100\u001b[39m\u001b[38;5;124m\"\u001b[39m, gen_kwargs\u001b[38;5;241m=\u001b[39m{\u001b[38;5;124m\"\u001b[39m\u001b[38;5;124mfiles\u001b[39m\u001b[38;5;124m\"\u001b[39m: dl_manager\u001b[38;5;241m.\u001b[39miter_archive(archive_path[\u001b[38;5;124m\"\u001b[39m\u001b[38;5;124mtrain.100\u001b[39m\u001b[38;5;124m\"\u001b[39m])}\n\u001b[0;32m   (...)\u001b[0m\n\u001b[1;32m    128\u001b[0m             ),\n\u001b[1;32m    129\u001b[0m         ]\n",
      "File \u001b[0;32m~/anaconda3/envs/py38/lib/python3.8/site-packages/datasets/utils/download_manager.py:282\u001b[0m, in \u001b[0;36mDownloadManager.download\u001b[0;34m(self, url_or_urls)\u001b[0m\n\u001b[1;32m    279\u001b[0m download_func \u001b[38;5;241m=\u001b[39m partial(\u001b[38;5;28mself\u001b[39m\u001b[38;5;241m.\u001b[39m_download, download_config\u001b[38;5;241m=\u001b[39mdownload_config)\n\u001b[1;32m    281\u001b[0m start_time \u001b[38;5;241m=\u001b[39m datetime\u001b[38;5;241m.\u001b[39mnow()\n\u001b[0;32m--> 282\u001b[0m downloaded_path_or_paths \u001b[38;5;241m=\u001b[39m \u001b[43mmap_nested\u001b[49m\u001b[43m(\u001b[49m\n\u001b[1;32m    283\u001b[0m \u001b[43m    \u001b[49m\u001b[43mdownload_func\u001b[49m\u001b[43m,\u001b[49m\n\u001b[1;32m    284\u001b[0m \u001b[43m    \u001b[49m\u001b[43murl_or_urls\u001b[49m\u001b[43m,\u001b[49m\n\u001b[1;32m    285\u001b[0m \u001b[43m    \u001b[49m\u001b[43mmap_tuple\u001b[49m\u001b[38;5;241;43m=\u001b[39;49m\u001b[38;5;28;43;01mTrue\u001b[39;49;00m\u001b[43m,\u001b[49m\n\u001b[1;32m    286\u001b[0m \u001b[43m    \u001b[49m\u001b[43mnum_proc\u001b[49m\u001b[38;5;241;43m=\u001b[39;49m\u001b[43mdownload_config\u001b[49m\u001b[38;5;241;43m.\u001b[39;49m\u001b[43mnum_proc\u001b[49m\u001b[43m,\u001b[49m\n\u001b[1;32m    287\u001b[0m \u001b[43m    \u001b[49m\u001b[43mdisable_tqdm\u001b[49m\u001b[38;5;241;43m=\u001b[39;49m\u001b[38;5;129;43;01mnot\u001b[39;49;00m\u001b[43m \u001b[49m\u001b[43mis_progress_bar_enabled\u001b[49m\u001b[43m(\u001b[49m\u001b[43m)\u001b[49m\u001b[43m,\u001b[49m\n\u001b[1;32m    288\u001b[0m \u001b[43m    \u001b[49m\u001b[43mdesc\u001b[49m\u001b[38;5;241;43m=\u001b[39;49m\u001b[38;5;124;43m\"\u001b[39;49m\u001b[38;5;124;43mDownloading data files\u001b[39;49m\u001b[38;5;124;43m\"\u001b[39;49m\u001b[43m,\u001b[49m\n\u001b[1;32m    289\u001b[0m \u001b[43m\u001b[49m\u001b[43m)\u001b[49m\n\u001b[1;32m    290\u001b[0m duration \u001b[38;5;241m=\u001b[39m datetime\u001b[38;5;241m.\u001b[39mnow() \u001b[38;5;241m-\u001b[39m start_time\n\u001b[1;32m    291\u001b[0m logger\u001b[38;5;241m.\u001b[39minfo(\u001b[38;5;124mf\u001b[39m\u001b[38;5;124m\"\u001b[39m\u001b[38;5;124mDownloading took \u001b[39m\u001b[38;5;132;01m{\u001b[39;00mduration\u001b[38;5;241m.\u001b[39mtotal_seconds() \u001b[38;5;241m/\u001b[39m\u001b[38;5;241m/\u001b[39m \u001b[38;5;241m60\u001b[39m\u001b[38;5;132;01m}\u001b[39;00m\u001b[38;5;124m min\u001b[39m\u001b[38;5;124m\"\u001b[39m)\n",
      "File \u001b[0;32m~/anaconda3/envs/py38/lib/python3.8/site-packages/datasets/utils/py_utils.py:314\u001b[0m, in \u001b[0;36mmap_nested\u001b[0;34m(function, data_struct, dict_only, map_list, map_tuple, map_numpy, num_proc, types, disable_tqdm, desc)\u001b[0m\n\u001b[1;32m    312\u001b[0m     num_proc \u001b[38;5;241m=\u001b[39m \u001b[38;5;241m1\u001b[39m\n\u001b[1;32m    313\u001b[0m \u001b[38;5;28;01mif\u001b[39;00m num_proc \u001b[38;5;241m<\u001b[39m\u001b[38;5;241m=\u001b[39m \u001b[38;5;241m1\u001b[39m \u001b[38;5;129;01mor\u001b[39;00m \u001b[38;5;28mlen\u001b[39m(iterable) \u001b[38;5;241m<\u001b[39m\u001b[38;5;241m=\u001b[39m num_proc:\n\u001b[0;32m--> 314\u001b[0m     mapped \u001b[38;5;241m=\u001b[39m [\n\u001b[1;32m    315\u001b[0m         _single_map_nested((function, obj, types, \u001b[38;5;28;01mNone\u001b[39;00m, \u001b[38;5;28;01mTrue\u001b[39;00m, \u001b[38;5;28;01mNone\u001b[39;00m))\n\u001b[1;32m    316\u001b[0m         \u001b[38;5;28;01mfor\u001b[39;00m obj \u001b[38;5;129;01min\u001b[39;00m logging\u001b[38;5;241m.\u001b[39mtqdm(iterable, disable\u001b[38;5;241m=\u001b[39mdisable_tqdm, desc\u001b[38;5;241m=\u001b[39mdesc)\n\u001b[1;32m    317\u001b[0m     ]\n\u001b[1;32m    318\u001b[0m \u001b[38;5;28;01melse\u001b[39;00m:\n\u001b[1;32m    319\u001b[0m     split_kwds \u001b[38;5;241m=\u001b[39m []  \u001b[38;5;66;03m# We organize the splits ourselve (contiguous splits)\u001b[39;00m\n",
      "File \u001b[0;32m~/anaconda3/envs/py38/lib/python3.8/site-packages/datasets/utils/py_utils.py:315\u001b[0m, in \u001b[0;36m<listcomp>\u001b[0;34m(.0)\u001b[0m\n\u001b[1;32m    312\u001b[0m     num_proc \u001b[38;5;241m=\u001b[39m \u001b[38;5;241m1\u001b[39m\n\u001b[1;32m    313\u001b[0m \u001b[38;5;28;01mif\u001b[39;00m num_proc \u001b[38;5;241m<\u001b[39m\u001b[38;5;241m=\u001b[39m \u001b[38;5;241m1\u001b[39m \u001b[38;5;129;01mor\u001b[39;00m \u001b[38;5;28mlen\u001b[39m(iterable) \u001b[38;5;241m<\u001b[39m\u001b[38;5;241m=\u001b[39m num_proc:\n\u001b[1;32m    314\u001b[0m     mapped \u001b[38;5;241m=\u001b[39m [\n\u001b[0;32m--> 315\u001b[0m         \u001b[43m_single_map_nested\u001b[49m\u001b[43m(\u001b[49m\u001b[43m(\u001b[49m\u001b[43mfunction\u001b[49m\u001b[43m,\u001b[49m\u001b[43m \u001b[49m\u001b[43mobj\u001b[49m\u001b[43m,\u001b[49m\u001b[43m \u001b[49m\u001b[43mtypes\u001b[49m\u001b[43m,\u001b[49m\u001b[43m \u001b[49m\u001b[38;5;28;43;01mNone\u001b[39;49;00m\u001b[43m,\u001b[49m\u001b[43m \u001b[49m\u001b[38;5;28;43;01mTrue\u001b[39;49;00m\u001b[43m,\u001b[49m\u001b[43m \u001b[49m\u001b[38;5;28;43;01mNone\u001b[39;49;00m\u001b[43m)\u001b[49m\u001b[43m)\u001b[49m\n\u001b[1;32m    316\u001b[0m         \u001b[38;5;28;01mfor\u001b[39;00m obj \u001b[38;5;129;01min\u001b[39;00m logging\u001b[38;5;241m.\u001b[39mtqdm(iterable, disable\u001b[38;5;241m=\u001b[39mdisable_tqdm, desc\u001b[38;5;241m=\u001b[39mdesc)\n\u001b[1;32m    317\u001b[0m     ]\n\u001b[1;32m    318\u001b[0m \u001b[38;5;28;01melse\u001b[39;00m:\n\u001b[1;32m    319\u001b[0m     split_kwds \u001b[38;5;241m=\u001b[39m []  \u001b[38;5;66;03m# We organize the splits ourselve (contiguous splits)\u001b[39;00m\n",
      "File \u001b[0;32m~/anaconda3/envs/py38/lib/python3.8/site-packages/datasets/utils/py_utils.py:251\u001b[0m, in \u001b[0;36m_single_map_nested\u001b[0;34m(args)\u001b[0m\n\u001b[1;32m    249\u001b[0m \u001b[38;5;66;03m# Singleton first to spare some computation\u001b[39;00m\n\u001b[1;32m    250\u001b[0m \u001b[38;5;28;01mif\u001b[39;00m \u001b[38;5;129;01mnot\u001b[39;00m \u001b[38;5;28misinstance\u001b[39m(data_struct, \u001b[38;5;28mdict\u001b[39m) \u001b[38;5;129;01mand\u001b[39;00m \u001b[38;5;129;01mnot\u001b[39;00m \u001b[38;5;28misinstance\u001b[39m(data_struct, types):\n\u001b[0;32m--> 251\u001b[0m     \u001b[38;5;28;01mreturn\u001b[39;00m \u001b[43mfunction\u001b[49m\u001b[43m(\u001b[49m\u001b[43mdata_struct\u001b[49m\u001b[43m)\u001b[49m\n\u001b[1;32m    253\u001b[0m \u001b[38;5;66;03m# Reduce logging to keep things readable in multiprocessing with tqdm\u001b[39;00m\n\u001b[1;32m    254\u001b[0m \u001b[38;5;28;01mif\u001b[39;00m rank \u001b[38;5;129;01mis\u001b[39;00m \u001b[38;5;129;01mnot\u001b[39;00m \u001b[38;5;28;01mNone\u001b[39;00m \u001b[38;5;129;01mand\u001b[39;00m logging\u001b[38;5;241m.\u001b[39mget_verbosity() \u001b[38;5;241m<\u001b[39m logging\u001b[38;5;241m.\u001b[39mWARNING:\n",
      "File \u001b[0;32m~/anaconda3/envs/py38/lib/python3.8/site-packages/datasets/utils/download_manager.py:308\u001b[0m, in \u001b[0;36mDownloadManager._download\u001b[0;34m(self, url_or_filename, download_config)\u001b[0m\n\u001b[1;32m    305\u001b[0m \u001b[38;5;28;01mif\u001b[39;00m is_relative_path(url_or_filename):\n\u001b[1;32m    306\u001b[0m     \u001b[38;5;66;03m# append the relative path to the base_path\u001b[39;00m\n\u001b[1;32m    307\u001b[0m     url_or_filename \u001b[38;5;241m=\u001b[39m url_or_path_join(\u001b[38;5;28mself\u001b[39m\u001b[38;5;241m.\u001b[39m_base_path, url_or_filename)\n\u001b[0;32m--> 308\u001b[0m \u001b[38;5;28;01mreturn\u001b[39;00m \u001b[43mcached_path\u001b[49m\u001b[43m(\u001b[49m\u001b[43murl_or_filename\u001b[49m\u001b[43m,\u001b[49m\u001b[43m \u001b[49m\u001b[43mdownload_config\u001b[49m\u001b[38;5;241;43m=\u001b[39;49m\u001b[43mdownload_config\u001b[49m\u001b[43m)\u001b[49m\n",
      "File \u001b[0;32m~/anaconda3/envs/py38/lib/python3.8/site-packages/datasets/utils/file_utils.py:234\u001b[0m, in \u001b[0;36mcached_path\u001b[0;34m(url_or_filename, download_config, **download_kwargs)\u001b[0m\n\u001b[1;32m    230\u001b[0m     url_or_filename \u001b[38;5;241m=\u001b[39m \u001b[38;5;28mstr\u001b[39m(url_or_filename)\n\u001b[1;32m    232\u001b[0m \u001b[38;5;28;01mif\u001b[39;00m is_remote_url(url_or_filename):\n\u001b[1;32m    233\u001b[0m     \u001b[38;5;66;03m# URL, so get it from the cache (downloading if necessary)\u001b[39;00m\n\u001b[0;32m--> 234\u001b[0m     output_path \u001b[38;5;241m=\u001b[39m \u001b[43mget_from_cache\u001b[49m\u001b[43m(\u001b[49m\n\u001b[1;32m    235\u001b[0m \u001b[43m        \u001b[49m\u001b[43murl_or_filename\u001b[49m\u001b[43m,\u001b[49m\n\u001b[1;32m    236\u001b[0m \u001b[43m        \u001b[49m\u001b[43mcache_dir\u001b[49m\u001b[38;5;241;43m=\u001b[39;49m\u001b[43mcache_dir\u001b[49m\u001b[43m,\u001b[49m\n\u001b[1;32m    237\u001b[0m \u001b[43m        \u001b[49m\u001b[43mforce_download\u001b[49m\u001b[38;5;241;43m=\u001b[39;49m\u001b[43mdownload_config\u001b[49m\u001b[38;5;241;43m.\u001b[39;49m\u001b[43mforce_download\u001b[49m\u001b[43m,\u001b[49m\n\u001b[1;32m    238\u001b[0m \u001b[43m        \u001b[49m\u001b[43mproxies\u001b[49m\u001b[38;5;241;43m=\u001b[39;49m\u001b[43mdownload_config\u001b[49m\u001b[38;5;241;43m.\u001b[39;49m\u001b[43mproxies\u001b[49m\u001b[43m,\u001b[49m\n\u001b[1;32m    239\u001b[0m \u001b[43m        \u001b[49m\u001b[43mresume_download\u001b[49m\u001b[38;5;241;43m=\u001b[39;49m\u001b[43mdownload_config\u001b[49m\u001b[38;5;241;43m.\u001b[39;49m\u001b[43mresume_download\u001b[49m\u001b[43m,\u001b[49m\n\u001b[1;32m    240\u001b[0m \u001b[43m        \u001b[49m\u001b[43muser_agent\u001b[49m\u001b[38;5;241;43m=\u001b[39;49m\u001b[43mdownload_config\u001b[49m\u001b[38;5;241;43m.\u001b[39;49m\u001b[43muser_agent\u001b[49m\u001b[43m,\u001b[49m\n\u001b[1;32m    241\u001b[0m \u001b[43m        \u001b[49m\u001b[43mlocal_files_only\u001b[49m\u001b[38;5;241;43m=\u001b[39;49m\u001b[43mdownload_config\u001b[49m\u001b[38;5;241;43m.\u001b[39;49m\u001b[43mlocal_files_only\u001b[49m\u001b[43m,\u001b[49m\n\u001b[1;32m    242\u001b[0m \u001b[43m        \u001b[49m\u001b[43muse_etag\u001b[49m\u001b[38;5;241;43m=\u001b[39;49m\u001b[43mdownload_config\u001b[49m\u001b[38;5;241;43m.\u001b[39;49m\u001b[43muse_etag\u001b[49m\u001b[43m,\u001b[49m\n\u001b[1;32m    243\u001b[0m \u001b[43m        \u001b[49m\u001b[43mmax_retries\u001b[49m\u001b[38;5;241;43m=\u001b[39;49m\u001b[43mdownload_config\u001b[49m\u001b[38;5;241;43m.\u001b[39;49m\u001b[43mmax_retries\u001b[49m\u001b[43m,\u001b[49m\n\u001b[1;32m    244\u001b[0m \u001b[43m        \u001b[49m\u001b[43muse_auth_token\u001b[49m\u001b[38;5;241;43m=\u001b[39;49m\u001b[43mdownload_config\u001b[49m\u001b[38;5;241;43m.\u001b[39;49m\u001b[43muse_auth_token\u001b[49m\u001b[43m,\u001b[49m\n\u001b[1;32m    245\u001b[0m \u001b[43m        \u001b[49m\u001b[43mignore_url_params\u001b[49m\u001b[38;5;241;43m=\u001b[39;49m\u001b[43mdownload_config\u001b[49m\u001b[38;5;241;43m.\u001b[39;49m\u001b[43mignore_url_params\u001b[49m\u001b[43m,\u001b[49m\n\u001b[1;32m    246\u001b[0m \u001b[43m        \u001b[49m\u001b[43mdownload_desc\u001b[49m\u001b[38;5;241;43m=\u001b[39;49m\u001b[43mdownload_config\u001b[49m\u001b[38;5;241;43m.\u001b[39;49m\u001b[43mdownload_desc\u001b[49m\u001b[43m,\u001b[49m\n\u001b[1;32m    247\u001b[0m \u001b[43m    \u001b[49m\u001b[43m)\u001b[49m\n\u001b[1;32m    248\u001b[0m \u001b[38;5;28;01melif\u001b[39;00m os\u001b[38;5;241m.\u001b[39mpath\u001b[38;5;241m.\u001b[39mexists(url_or_filename):\n\u001b[1;32m    249\u001b[0m     \u001b[38;5;66;03m# File, and it exists.\u001b[39;00m\n\u001b[1;32m    250\u001b[0m     output_path \u001b[38;5;241m=\u001b[39m url_or_filename\n",
      "File \u001b[0;32m~/anaconda3/envs/py38/lib/python3.8/site-packages/datasets/utils/file_utils.py:626\u001b[0m, in \u001b[0;36mget_from_cache\u001b[0;34m(url, cache_dir, force_download, proxies, etag_timeout, resume_download, user_agent, local_files_only, use_etag, max_retries, use_auth_token, ignore_url_params, download_desc)\u001b[0m\n\u001b[1;32m    624\u001b[0m         ftp_get(url, temp_file)\n\u001b[1;32m    625\u001b[0m     \u001b[38;5;28;01melse\u001b[39;00m:\n\u001b[0;32m--> 626\u001b[0m         \u001b[43mhttp_get\u001b[49m\u001b[43m(\u001b[49m\n\u001b[1;32m    627\u001b[0m \u001b[43m            \u001b[49m\u001b[43murl\u001b[49m\u001b[43m,\u001b[49m\n\u001b[1;32m    628\u001b[0m \u001b[43m            \u001b[49m\u001b[43mtemp_file\u001b[49m\u001b[43m,\u001b[49m\n\u001b[1;32m    629\u001b[0m \u001b[43m            \u001b[49m\u001b[43mproxies\u001b[49m\u001b[38;5;241;43m=\u001b[39;49m\u001b[43mproxies\u001b[49m\u001b[43m,\u001b[49m\n\u001b[1;32m    630\u001b[0m \u001b[43m            \u001b[49m\u001b[43mresume_size\u001b[49m\u001b[38;5;241;43m=\u001b[39;49m\u001b[43mresume_size\u001b[49m\u001b[43m,\u001b[49m\n\u001b[1;32m    631\u001b[0m \u001b[43m            \u001b[49m\u001b[43mheaders\u001b[49m\u001b[38;5;241;43m=\u001b[39;49m\u001b[43mheaders\u001b[49m\u001b[43m,\u001b[49m\n\u001b[1;32m    632\u001b[0m \u001b[43m            \u001b[49m\u001b[43mcookies\u001b[49m\u001b[38;5;241;43m=\u001b[39;49m\u001b[43mcookies\u001b[49m\u001b[43m,\u001b[49m\n\u001b[1;32m    633\u001b[0m \u001b[43m            \u001b[49m\u001b[43mmax_retries\u001b[49m\u001b[38;5;241;43m=\u001b[39;49m\u001b[43mmax_retries\u001b[49m\u001b[43m,\u001b[49m\n\u001b[1;32m    634\u001b[0m \u001b[43m            \u001b[49m\u001b[43mdesc\u001b[49m\u001b[38;5;241;43m=\u001b[39;49m\u001b[43mdownload_desc\u001b[49m\u001b[43m,\u001b[49m\n\u001b[1;32m    635\u001b[0m \u001b[43m        \u001b[49m\u001b[43m)\u001b[49m\n\u001b[1;32m    637\u001b[0m logger\u001b[38;5;241m.\u001b[39minfo(\u001b[38;5;124mf\u001b[39m\u001b[38;5;124m\"\u001b[39m\u001b[38;5;124mstoring \u001b[39m\u001b[38;5;132;01m{\u001b[39;00murl\u001b[38;5;132;01m}\u001b[39;00m\u001b[38;5;124m in cache at \u001b[39m\u001b[38;5;132;01m{\u001b[39;00mcache_path\u001b[38;5;132;01m}\u001b[39;00m\u001b[38;5;124m\"\u001b[39m)\n\u001b[1;32m    638\u001b[0m shutil\u001b[38;5;241m.\u001b[39mmove(temp_file\u001b[38;5;241m.\u001b[39mname, cache_path)\n",
      "File \u001b[0;32m~/anaconda3/envs/py38/lib/python3.8/site-packages/datasets/utils/file_utils.py:429\u001b[0m, in \u001b[0;36mhttp_get\u001b[0;34m(url, temp_file, proxies, resume_size, headers, cookies, timeout, max_retries, desc)\u001b[0m\n\u001b[1;32m    420\u001b[0m total \u001b[38;5;241m=\u001b[39m resume_size \u001b[38;5;241m+\u001b[39m \u001b[38;5;28mint\u001b[39m(content_length) \u001b[38;5;28;01mif\u001b[39;00m content_length \u001b[38;5;129;01mis\u001b[39;00m \u001b[38;5;129;01mnot\u001b[39;00m \u001b[38;5;28;01mNone\u001b[39;00m \u001b[38;5;28;01melse\u001b[39;00m \u001b[38;5;28;01mNone\u001b[39;00m\n\u001b[1;32m    421\u001b[0m \u001b[38;5;28;01mwith\u001b[39;00m logging\u001b[38;5;241m.\u001b[39mtqdm(\n\u001b[1;32m    422\u001b[0m     unit\u001b[38;5;241m=\u001b[39m\u001b[38;5;124m\"\u001b[39m\u001b[38;5;124mB\u001b[39m\u001b[38;5;124m\"\u001b[39m,\n\u001b[1;32m    423\u001b[0m     unit_scale\u001b[38;5;241m=\u001b[39m\u001b[38;5;28;01mTrue\u001b[39;00m,\n\u001b[0;32m   (...)\u001b[0m\n\u001b[1;32m    427\u001b[0m     disable\u001b[38;5;241m=\u001b[39m\u001b[38;5;129;01mnot\u001b[39;00m logging\u001b[38;5;241m.\u001b[39mis_progress_bar_enabled(),\n\u001b[1;32m    428\u001b[0m ) \u001b[38;5;28;01mas\u001b[39;00m progress:\n\u001b[0;32m--> 429\u001b[0m     \u001b[38;5;28;01mfor\u001b[39;00m chunk \u001b[38;5;129;01min\u001b[39;00m response\u001b[38;5;241m.\u001b[39miter_content(chunk_size\u001b[38;5;241m=\u001b[39m\u001b[38;5;241m1024\u001b[39m):\n\u001b[1;32m    430\u001b[0m         progress\u001b[38;5;241m.\u001b[39mupdate(\u001b[38;5;28mlen\u001b[39m(chunk))\n\u001b[1;32m    431\u001b[0m         temp_file\u001b[38;5;241m.\u001b[39mwrite(chunk)\n",
      "File \u001b[0;32m~/anaconda3/envs/py38/lib/python3.8/site-packages/requests/models.py:760\u001b[0m, in \u001b[0;36mResponse.iter_content.<locals>.generate\u001b[0;34m()\u001b[0m\n\u001b[1;32m    758\u001b[0m \u001b[38;5;28;01mif\u001b[39;00m \u001b[38;5;28mhasattr\u001b[39m(\u001b[38;5;28mself\u001b[39m\u001b[38;5;241m.\u001b[39mraw, \u001b[38;5;124m'\u001b[39m\u001b[38;5;124mstream\u001b[39m\u001b[38;5;124m'\u001b[39m):\n\u001b[1;32m    759\u001b[0m     \u001b[38;5;28;01mtry\u001b[39;00m:\n\u001b[0;32m--> 760\u001b[0m         \u001b[38;5;28;01mfor\u001b[39;00m chunk \u001b[38;5;129;01min\u001b[39;00m \u001b[38;5;28mself\u001b[39m\u001b[38;5;241m.\u001b[39mraw\u001b[38;5;241m.\u001b[39mstream(chunk_size, decode_content\u001b[38;5;241m=\u001b[39m\u001b[38;5;28;01mTrue\u001b[39;00m):\n\u001b[1;32m    761\u001b[0m             \u001b[38;5;28;01myield\u001b[39;00m chunk\n\u001b[1;32m    762\u001b[0m     \u001b[38;5;28;01mexcept\u001b[39;00m ProtocolError \u001b[38;5;28;01mas\u001b[39;00m e:\n",
      "File \u001b[0;32m~/anaconda3/envs/py38/lib/python3.8/site-packages/urllib3/response.py:576\u001b[0m, in \u001b[0;36mHTTPResponse.stream\u001b[0;34m(self, amt, decode_content)\u001b[0m\n\u001b[1;32m    574\u001b[0m \u001b[38;5;28;01melse\u001b[39;00m:\n\u001b[1;32m    575\u001b[0m     \u001b[38;5;28;01mwhile\u001b[39;00m \u001b[38;5;129;01mnot\u001b[39;00m is_fp_closed(\u001b[38;5;28mself\u001b[39m\u001b[38;5;241m.\u001b[39m_fp):\n\u001b[0;32m--> 576\u001b[0m         data \u001b[38;5;241m=\u001b[39m \u001b[38;5;28;43mself\u001b[39;49m\u001b[38;5;241;43m.\u001b[39;49m\u001b[43mread\u001b[49m\u001b[43m(\u001b[49m\u001b[43mamt\u001b[49m\u001b[38;5;241;43m=\u001b[39;49m\u001b[43mamt\u001b[49m\u001b[43m,\u001b[49m\u001b[43m \u001b[49m\u001b[43mdecode_content\u001b[49m\u001b[38;5;241;43m=\u001b[39;49m\u001b[43mdecode_content\u001b[49m\u001b[43m)\u001b[49m\n\u001b[1;32m    578\u001b[0m         \u001b[38;5;28;01mif\u001b[39;00m data:\n\u001b[1;32m    579\u001b[0m             \u001b[38;5;28;01myield\u001b[39;00m data\n",
      "File \u001b[0;32m~/anaconda3/envs/py38/lib/python3.8/site-packages/urllib3/response.py:519\u001b[0m, in \u001b[0;36mHTTPResponse.read\u001b[0;34m(self, amt, decode_content, cache_content)\u001b[0m\n\u001b[1;32m    517\u001b[0m \u001b[38;5;28;01melse\u001b[39;00m:\n\u001b[1;32m    518\u001b[0m     cache_content \u001b[38;5;241m=\u001b[39m \u001b[38;5;28;01mFalse\u001b[39;00m\n\u001b[0;32m--> 519\u001b[0m     data \u001b[38;5;241m=\u001b[39m \u001b[38;5;28;43mself\u001b[39;49m\u001b[38;5;241;43m.\u001b[39;49m\u001b[43m_fp\u001b[49m\u001b[38;5;241;43m.\u001b[39;49m\u001b[43mread\u001b[49m\u001b[43m(\u001b[49m\u001b[43mamt\u001b[49m\u001b[43m)\u001b[49m \u001b[38;5;28;01mif\u001b[39;00m \u001b[38;5;129;01mnot\u001b[39;00m fp_closed \u001b[38;5;28;01melse\u001b[39;00m \u001b[38;5;124mb\u001b[39m\u001b[38;5;124m\"\u001b[39m\u001b[38;5;124m\"\u001b[39m\n\u001b[1;32m    520\u001b[0m     \u001b[38;5;28;01mif\u001b[39;00m (\n\u001b[1;32m    521\u001b[0m         amt \u001b[38;5;241m!=\u001b[39m \u001b[38;5;241m0\u001b[39m \u001b[38;5;129;01mand\u001b[39;00m \u001b[38;5;129;01mnot\u001b[39;00m data\n\u001b[1;32m    522\u001b[0m     ):  \u001b[38;5;66;03m# Platform-specific: Buggy versions of Python.\u001b[39;00m\n\u001b[0;32m   (...)\u001b[0m\n\u001b[1;32m    528\u001b[0m         \u001b[38;5;66;03m# not properly close the connection in all cases. There is\u001b[39;00m\n\u001b[1;32m    529\u001b[0m         \u001b[38;5;66;03m# no harm in redundantly calling close.\u001b[39;00m\n\u001b[1;32m    530\u001b[0m         \u001b[38;5;28mself\u001b[39m\u001b[38;5;241m.\u001b[39m_fp\u001b[38;5;241m.\u001b[39mclose()\n",
      "File \u001b[0;32m~/anaconda3/envs/py38/lib/python3.8/http/client.py:459\u001b[0m, in \u001b[0;36mHTTPResponse.read\u001b[0;34m(self, amt)\u001b[0m\n\u001b[1;32m    456\u001b[0m \u001b[38;5;28;01mif\u001b[39;00m amt \u001b[38;5;129;01mis\u001b[39;00m \u001b[38;5;129;01mnot\u001b[39;00m \u001b[38;5;28;01mNone\u001b[39;00m:\n\u001b[1;32m    457\u001b[0m     \u001b[38;5;66;03m# Amount is given, implement using readinto\u001b[39;00m\n\u001b[1;32m    458\u001b[0m     b \u001b[38;5;241m=\u001b[39m \u001b[38;5;28mbytearray\u001b[39m(amt)\n\u001b[0;32m--> 459\u001b[0m     n \u001b[38;5;241m=\u001b[39m \u001b[38;5;28;43mself\u001b[39;49m\u001b[38;5;241;43m.\u001b[39;49m\u001b[43mreadinto\u001b[49m\u001b[43m(\u001b[49m\u001b[43mb\u001b[49m\u001b[43m)\u001b[49m\n\u001b[1;32m    460\u001b[0m     \u001b[38;5;28;01mreturn\u001b[39;00m \u001b[38;5;28mmemoryview\u001b[39m(b)[:n]\u001b[38;5;241m.\u001b[39mtobytes()\n\u001b[1;32m    461\u001b[0m \u001b[38;5;28;01melse\u001b[39;00m:\n\u001b[1;32m    462\u001b[0m     \u001b[38;5;66;03m# Amount is not given (unbounded read) so we must check self.length\u001b[39;00m\n\u001b[1;32m    463\u001b[0m     \u001b[38;5;66;03m# and self.chunked\u001b[39;00m\n",
      "File \u001b[0;32m~/anaconda3/envs/py38/lib/python3.8/http/client.py:503\u001b[0m, in \u001b[0;36mHTTPResponse.readinto\u001b[0;34m(self, b)\u001b[0m\n\u001b[1;32m    498\u001b[0m         b \u001b[38;5;241m=\u001b[39m \u001b[38;5;28mmemoryview\u001b[39m(b)[\u001b[38;5;241m0\u001b[39m:\u001b[38;5;28mself\u001b[39m\u001b[38;5;241m.\u001b[39mlength]\n\u001b[1;32m    500\u001b[0m \u001b[38;5;66;03m# we do not use _safe_read() here because this may be a .will_close\u001b[39;00m\n\u001b[1;32m    501\u001b[0m \u001b[38;5;66;03m# connection, and the user is reading more bytes than will be provided\u001b[39;00m\n\u001b[1;32m    502\u001b[0m \u001b[38;5;66;03m# (for example, reading in 1k chunks)\u001b[39;00m\n\u001b[0;32m--> 503\u001b[0m n \u001b[38;5;241m=\u001b[39m \u001b[38;5;28;43mself\u001b[39;49m\u001b[38;5;241;43m.\u001b[39;49m\u001b[43mfp\u001b[49m\u001b[38;5;241;43m.\u001b[39;49m\u001b[43mreadinto\u001b[49m\u001b[43m(\u001b[49m\u001b[43mb\u001b[49m\u001b[43m)\u001b[49m\n\u001b[1;32m    504\u001b[0m \u001b[38;5;28;01mif\u001b[39;00m \u001b[38;5;129;01mnot\u001b[39;00m n \u001b[38;5;129;01mand\u001b[39;00m b:\n\u001b[1;32m    505\u001b[0m     \u001b[38;5;66;03m# Ideally, we would raise IncompleteRead if the content-length\u001b[39;00m\n\u001b[1;32m    506\u001b[0m     \u001b[38;5;66;03m# wasn't satisfied, but it might break compatibility.\u001b[39;00m\n\u001b[1;32m    507\u001b[0m     \u001b[38;5;28mself\u001b[39m\u001b[38;5;241m.\u001b[39m_close_conn()\n",
      "File \u001b[0;32m~/anaconda3/envs/py38/lib/python3.8/socket.py:669\u001b[0m, in \u001b[0;36mSocketIO.readinto\u001b[0;34m(self, b)\u001b[0m\n\u001b[1;32m    667\u001b[0m \u001b[38;5;28;01mwhile\u001b[39;00m \u001b[38;5;28;01mTrue\u001b[39;00m:\n\u001b[1;32m    668\u001b[0m     \u001b[38;5;28;01mtry\u001b[39;00m:\n\u001b[0;32m--> 669\u001b[0m         \u001b[38;5;28;01mreturn\u001b[39;00m \u001b[38;5;28;43mself\u001b[39;49m\u001b[38;5;241;43m.\u001b[39;49m\u001b[43m_sock\u001b[49m\u001b[38;5;241;43m.\u001b[39;49m\u001b[43mrecv_into\u001b[49m\u001b[43m(\u001b[49m\u001b[43mb\u001b[49m\u001b[43m)\u001b[49m\n\u001b[1;32m    670\u001b[0m     \u001b[38;5;28;01mexcept\u001b[39;00m timeout:\n\u001b[1;32m    671\u001b[0m         \u001b[38;5;28mself\u001b[39m\u001b[38;5;241m.\u001b[39m_timeout_occurred \u001b[38;5;241m=\u001b[39m \u001b[38;5;28;01mTrue\u001b[39;00m\n",
      "\u001b[0;31mKeyboardInterrupt\u001b[0m: "
     ]
    }
   ],
   "source": [
    "dataset = load_dataset(\"librispeech_asr\", \"clean\", \n",
    "                       split=\"test\", \n",
    "                       cache_dir=data_cache_dir\n",
    "                      )\n",
    "\n",
    "dataset = dataset.sort(\"id\")\n",
    "sampling_rate = dataset.features[\"audio\"].sampling_rate\n",
    "\n",
    "dataset, sampling_rate"
   ]
  },
  {
   "cell_type": "code",
   "execution_count": null,
   "id": "91dee4b7",
   "metadata": {},
   "outputs": [],
   "source": [
    "dataset['text']"
   ]
  },
  {
   "cell_type": "code",
   "execution_count": null,
   "id": "3695890c",
   "metadata": {},
   "outputs": [],
   "source": []
  }
 ],
 "metadata": {
  "kernelspec": {
   "display_name": "Python 3 (ipykernel)",
   "language": "python",
   "name": "python3"
  },
  "language_info": {
   "codemirror_mode": {
    "name": "ipython",
    "version": 3
   },
   "file_extension": ".py",
   "mimetype": "text/x-python",
   "name": "python",
   "nbconvert_exporter": "python",
   "pygments_lexer": "ipython3",
   "version": "3.8.12"
  }
 },
 "nbformat": 4,
 "nbformat_minor": 5
}
