{
 "cells": [
  {
   "cell_type": "code",
   "execution_count": 1,
   "id": "d421d36f",
   "metadata": {},
   "outputs": [
    {
     "data": {
      "text/plain": [
       "<torch._C.Generator at 0x7f86bc0a7bf0>"
      ]
     },
     "execution_count": 1,
     "metadata": {},
     "output_type": "execute_result"
    }
   ],
   "source": [
    "import os\n",
    "import pickle\n",
    "import random\n",
    "from tqdm import tqdm\n",
    "import numpy as np\n",
    "import torch\n",
    "\n",
    "from datasets import load_dataset, load_metric\n",
    "import math\n",
    "from itertools import groupby\n",
    "\n",
    "import wandb\n",
    "\n",
    "os.environ[\"CUDA_DEVICE_ORDER\"] = \"PCI_BUS_ID\"\n",
    "os.environ[\"CUDA_VISIBLE_DEVICES\"] = \"1,0\"\n",
    "os.environ[\"WANDB_DISABLED\"] = \"true\"\n",
    "\n",
    "cache_dir = \"/data4/yoomcache\"\n",
    "model_cache_dir = os.path.join(cache_dir, 'huggingface')\n",
    "data_cache_dir = os.path.join(cache_dir, 'datasets')\n",
    "checkpoint_dir = os.path.join(cache_dir, 'checkpoint')\n",
    "\n",
    "seed = 0\n",
    "random.seed(0)\n",
    "np.random.seed(seed)\n",
    "torch.manual_seed(seed)\n"
   ]
  },
  {
   "cell_type": "code",
   "execution_count": 2,
   "id": "94af62aa",
   "metadata": {},
   "outputs": [],
   "source": [
    "# %reload_ext autoreload\n",
    "# %autoreload 2\n",
    "\n",
    "from transformers import Wav2Vec2FeatureExtractor, Wav2Vec2Model"
   ]
  },
  {
   "cell_type": "code",
   "execution_count": 3,
   "id": "42b36aa9",
   "metadata": {},
   "outputs": [],
   "source": [
    "wav2vec_pretrained = \"facebook/wav2vec2-base\""
   ]
  },
  {
   "cell_type": "code",
   "execution_count": 4,
   "id": "2581ef0f",
   "metadata": {},
   "outputs": [],
   "source": [
    "feature_extractor = Wav2Vec2FeatureExtractor.from_pretrained(wav2vec_pretrained, \n",
    "                                                             cache_dir=model_cache_dir,)"
   ]
  },
  {
   "cell_type": "code",
   "execution_count": 5,
   "id": "4a822e8d",
   "metadata": {},
   "outputs": [
    {
     "name": "stdout",
     "output_type": "stream",
     "text": [
      "308533\n"
     ]
    },
    {
     "name": "stderr",
     "output_type": "stream",
     "text": [
      "100%|████████████████████████████████████████| 440/440 [00:03<00:00, 144.42it/s]"
     ]
    },
    {
     "name": "stdout",
     "output_type": "stream",
     "text": [
      "440\n"
     ]
    },
    {
     "name": "stderr",
     "output_type": "stream",
     "text": [
      "\n"
     ]
    }
   ],
   "source": [
    "with open('/data4/TTS/VCTK-Corpus/dataset-vctk-16k.pkl', 'rb') as f:\n",
    "    dataset = pickle.load(f)\n",
    "del dataset['page'], dataset['index'], dataset['audio_path']\n",
    "\n",
    "\n",
    "\n",
    "# dataset_size = len(dataset['text'])\n",
    "dataset_size = int(len(dataset['text']) * 0.01)\n",
    "\n",
    "max_audio_length = 0\n",
    "for arr in dataset['audio_array']:\n",
    "    if len(arr) > max_audio_length:\n",
    "        max_audio_length = len(arr)\n",
    "print(max_audio_length)\n",
    "\n",
    "\n",
    "for idx in tqdm(range(dataset_size)):\n",
    "    dataset['audio_array'][idx] = feature_extractor(dataset['audio_array'][idx], \n",
    "                                                    sampling_rate=dataset['sample_rate'],\n",
    "                                                    return_tensors=\"pt\",\n",
    "                                                    padding='max_length',\n",
    "                                                    max_length=max_audio_length\n",
    "                                                    ).input_values[0]\n",
    "del dataset['audio_array'][dataset_size:]\n",
    "print(len(dataset['audio_array']))"
   ]
  },
  {
   "cell_type": "code",
   "execution_count": null,
   "id": "800e1b02",
   "metadata": {},
   "outputs": [],
   "source": []
  },
  {
   "cell_type": "code",
   "execution_count": 6,
   "id": "33366aed",
   "metadata": {},
   "outputs": [
    {
     "name": "stderr",
     "output_type": "stream",
     "text": [
      "/home/yoomin/anaconda3/envs/py38/lib/python3.8/site-packages/transformers/configuration_utils.py:356: UserWarning: Passing `gradient_checkpointing` to a config initialization is deprecated and will be removed in v5 Transformers. Using `model.gradient_checkpointing_enable()` instead, or if you are using the `Trainer` API, pass `gradient_checkpointing=True` in your `TrainingArguments`.\n",
      "  warnings.warn(\n",
      "Some weights of the model checkpoint at facebook/wav2vec2-base were not used when initializing Wav2Vec2Model: ['project_hid.weight', 'quantizer.codevectors', 'project_q.bias', 'project_q.weight', 'quantizer.weight_proj.weight', 'project_hid.bias', 'quantizer.weight_proj.bias']\n",
      "- This IS expected if you are initializing Wav2Vec2Model from the checkpoint of a model trained on another task or with another architecture (e.g. initializing a BertForSequenceClassification model from a BertForPreTraining model).\n",
      "- This IS NOT expected if you are initializing Wav2Vec2Model from the checkpoint of a model that you expect to be exactly identical (initializing a BertForSequenceClassification model from a BertForSequenceClassification model).\n"
     ]
    }
   ],
   "source": [
    "model_wav2vec = Wav2Vec2Model.from_pretrained(wav2vec_pretrained,\n",
    "                                             cache_dir=model_cache_dir)"
   ]
  },
  {
   "cell_type": "code",
   "execution_count": 7,
   "id": "8fdbb8b1",
   "metadata": {},
   "outputs": [
    {
     "name": "stdout",
     "output_type": "stream",
     "text": [
      "torch.Size([4, 308533])\n",
      "torch.Size([4, 963, 768])\n"
     ]
    }
   ],
   "source": [
    "##### example\n",
    "\n",
    "\n",
    "BATCH_SIZE = 4\n",
    "i = 4\n",
    "device = 'cuda:0'\n",
    "device = 'cpu'\n",
    "batch_idx = range(i*BATCH_SIZE, i*BATCH_SIZE+BATCH_SIZE)\n",
    "\n",
    "audio_feature_batch = list()\n",
    "for idx in batch_idx:\n",
    "    audio_feature_batch.append(dataset['audio_array'][idx])\n",
    "audio_feature_batch = torch.stack(audio_feature_batch)\n",
    "print(audio_feature_batch.size())\n",
    "\n",
    "\n",
    "\n",
    "with torch.no_grad():\n",
    "    audio_embedding = model_wav2vec(input_values=audio_feature_batch.to(device), )\n",
    "    \n",
    "print(audio_embedding.last_hidden_state.shape)\n"
   ]
  },
  {
   "cell_type": "code",
   "execution_count": null,
   "id": "0192b822",
   "metadata": {},
   "outputs": [],
   "source": []
  },
  {
   "cell_type": "code",
   "execution_count": null,
   "id": "a62cedb3",
   "metadata": {},
   "outputs": [],
   "source": []
  }
 ],
 "metadata": {
  "kernelspec": {
   "display_name": "Python 3 (ipykernel)",
   "language": "python",
   "name": "python3"
  },
  "language_info": {
   "codemirror_mode": {
    "name": "ipython",
    "version": 3
   },
   "file_extension": ".py",
   "mimetype": "text/x-python",
   "name": "python",
   "nbconvert_exporter": "python",
   "pygments_lexer": "ipython3",
   "version": "3.8.12"
  }
 },
 "nbformat": 4,
 "nbformat_minor": 5
}
